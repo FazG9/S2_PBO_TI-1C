{
  "nbformat": 4,
  "nbformat_minor": 0,
  "metadata": {
    "colab": {
      "provenance": [],
      "authorship_tag": "ABX9TyNVZxtJDhftwWyrTilKv5Qc",
      "include_colab_link": true
    },
    "kernelspec": {
      "name": "python3",
      "display_name": "Python 3"
    },
    "language_info": {
      "name": "python"
    }
  },
  "cells": [
    {
      "cell_type": "markdown",
      "metadata": {
        "id": "view-in-github",
        "colab_type": "text"
      },
      "source": [
        "<a href=\"https://colab.research.google.com/github/FazG9/S2_PBO_TI-1C/blob/main/program_BMI.ipynb\" target=\"_parent\"><img src=\"https://colab.research.google.com/assets/colab-badge.svg\" alt=\"Open In Colab\"/></a>"
      ]
    },
    {
      "cell_type": "markdown",
      "source": [
        " Buat Program 1: Buat program untuk menghitung BMI (Body Mass Index)"
      ],
      "metadata": {
        "id": "eywmi_QbI6iD"
      }
    },
    {
      "cell_type": "code",
      "source": [
        "# Program Menghitung BMI\n",
        "\n",
        "# Input berat badan dalam kg\n",
        "berat = float(input(\"Masukkan berat badan (kg): \"))\n",
        "\n",
        "# Input tinggi badan dalam cm, lalu konversi ke meter\n",
        "tinggi_cm = float(input(\"Masukkan tinggi badan (cm): \"))\n",
        "tinggi_m = tinggi_cm / 100  # Konversi cm ke meter\n",
        "\n",
        "# Menghitung BMI\n",
        "bmi = berat / (tinggi_m ** 2)\n",
        "\n",
        "# Menentukan kategori BMI\n",
        "if bmi < 18.5:\n",
        "    kategori = \"Underweight\"\n",
        "elif 18.5 <= bmi <= 24.9:\n",
        "    kategori = \"Normal\"\n",
        "else:  # Jika BMI >= 25\n",
        "    kategori = \"Overweight\"\n",
        "\n",
        "# Menampilkan hasil\n",
        "print(f\"\\nBMI Anda: {bmi:.2f}\")\n",
        "print(f\"Kategori: {kategori}\")"
      ],
      "metadata": {
        "colab": {
          "base_uri": "https://localhost:8080/"
        },
        "id": "WocfzwyuLAr1",
        "outputId": "a0dc4365-94f8-46ff-d1f5-1dcd197a77c1"
      },
      "execution_count": 4,
      "outputs": [
        {
          "output_type": "stream",
          "name": "stdout",
          "text": [
            "Masukkan berat badan (kg): 80\n",
            "Masukkan tinggi badan (cm): 170\n",
            "\n",
            "BMI Anda: 27.68\n",
            "Kategori: Overweight\n"
          ]
        }
      ]
    }
  ]
}