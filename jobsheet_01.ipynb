{
  "nbformat": 4,
  "nbformat_minor": 0,
  "metadata": {
    "colab": {
      "provenance": [],
      "authorship_tag": "ABX9TyOzjLYThoS0ek4gBWiP6duw",
      "include_colab_link": true
    },
    "kernelspec": {
      "name": "python3",
      "display_name": "Python 3"
    },
    "language_info": {
      "name": "python"
    }
  },
  "cells": [
    {
      "cell_type": "markdown",
      "metadata": {
        "id": "view-in-github",
        "colab_type": "text"
      },
      "source": [
        "<a href=\"https://colab.research.google.com/github/FazG9/S2_PBO_TI-1C/blob/main/jobsheet_01.ipynb\" target=\"_parent\"><img src=\"https://colab.research.google.com/assets/colab-badge.svg\" alt=\"Open In Colab\"/></a>"
      ]
    },
    {
      "cell_type": "markdown",
      "source": [
        "Praktikum 01. Tipe data dasar"
      ],
      "metadata": {
        "id": "KG-5E_hKUrFo"
      }
    },
    {
      "cell_type": "code",
      "source": [
        " # 1. Number (int, float, complex)\n",
        "# Integer (int)\n",
        "angka_int = 10\n",
        "print(\"angka_int =\", angka_int, \"->\", type(angka_int))\n",
        "\n",
        "# Float\n",
        "angka_float = 3.14\n",
        "print(\"angka_float =\", angka_float, \"->\", type(angka_float))\n",
        "\n",
        "# Complex\n",
        "angka_complex = 2 + 3j\n",
        "print(\"angka_complex =\", angka_complex, \"->\", type(angka_complex))\n",
        "\n",
        "print(\"Integer adalah tipe data untuk sebuah angka\")\n",
        "print(\"Float adalah tipe data untuk sebuah bilangan desimal\")\n",
        "print(\"Complex adalah tipe data untuk sebuah bilangan kompleks\")"
      ],
      "metadata": {
        "id": "E5cvbeowUx_B",
        "outputId": "4b364ef7-bc00-4202-ae40-f8df4911bf71",
        "colab": {
          "base_uri": "https://localhost:8080/"
        }
      },
      "execution_count": 2,
      "outputs": [
        {
          "output_type": "stream",
          "name": "stdout",
          "text": [
            "angka_int = 10 -> <class 'int'>\n",
            "angka_float = 3.14 -> <class 'float'>\n",
            "angka_complex = (2+3j) -> <class 'complex'>\n",
            "Integer adalah tipe data untuk sebuah angka\n",
            "Float adalah tipe data untuk sebuah bilangan desimal\n",
            "Complex adalah tipe data untuk sebuah bilangan kompleks\n"
          ]
        }
      ]
    },
    {
      "cell_type": "code",
      "source": [
        "# 2. Boolean\n",
        "is_active = True\n",
        "print(\"is_active =\", is_active, \"->\", type(is_active))\n",
        "print(\"Boolean adalah tipe data untuk sebuah nilai benar atau salah\")"
      ],
      "metadata": {
        "id": "hyHC_U-vV_uZ",
        "outputId": "a1394710-a411-4173-a43b-6e399603c695",
        "colab": {
          "base_uri": "https://localhost:8080/"
        }
      },
      "execution_count": 3,
      "outputs": [
        {
          "output_type": "stream",
          "name": "stdout",
          "text": [
            "is_active = True -> <class 'bool'>\n",
            "Boolean adalah tipe data untuk sebuah nilai benar atau salah\n"
          ]
        }
      ]
    }
  ]
}