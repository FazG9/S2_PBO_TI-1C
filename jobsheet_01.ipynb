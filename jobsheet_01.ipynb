{
  "nbformat": 4,
  "nbformat_minor": 0,
  "metadata": {
    "colab": {
      "provenance": [],
      "authorship_tag": "ABX9TyPvDzHmdlf2hbN/ITLkDhJE",
      "include_colab_link": true
    },
    "kernelspec": {
      "name": "python3",
      "display_name": "Python 3"
    },
    "language_info": {
      "name": "python"
    }
  },
  "cells": [
    {
      "cell_type": "markdown",
      "metadata": {
        "id": "view-in-github",
        "colab_type": "text"
      },
      "source": [
        "<a href=\"https://colab.research.google.com/github/FazG9/S2_PBO_TI-1C/blob/main/jobsheet_01.ipynb\" target=\"_parent\"><img src=\"https://colab.research.google.com/assets/colab-badge.svg\" alt=\"Open In Colab\"/></a>"
      ]
    },
    {
      "cell_type": "markdown",
      "source": [
        "Praktikum 01. Tipe data dasar"
      ],
      "metadata": {
        "id": "KG-5E_hKUrFo"
      }
    },
    {
      "cell_type": "code",
      "source": [
        " # 1. Number (int, float, complex)\n",
        "# Integer (int)\n",
        "angka_int = 10\n",
        "print(\"angka_int =\", angka_int, \"->\", type(angka_int))\n",
        "\n",
        "# Float\n",
        "angka_float = 3.14\n",
        "print(\"angka_float =\", angka_float, \"->\", type(angka_float))\n",
        "\n",
        "# Complex\n",
        "angka_complex = 2 + 3j\n",
        "print(\"angka_complex =\", angka_complex, \"->\", type(angka_complex))\n",
        "\n",
        "print(\"NOTE:\")\n",
        "print(\"Integer adalah tipe data untuk sebuah angka\")\n",
        "print(\"Float adalah tipe data untuk sebuah bilangan desimal\")\n",
        "print(\"Complex adalah tipe data untuk sebuah bilangan kompleks\")"
      ],
      "metadata": {
        "colab": {
          "base_uri": "https://localhost:8080/"
        },
        "id": "E5cvbeowUx_B",
        "outputId": "1a28c58b-d965-4fa1-a48c-09acb9a1a334"
      },
      "execution_count": 5,
      "outputs": [
        {
          "output_type": "stream",
          "name": "stdout",
          "text": [
            "angka_int = 10 -> <class 'int'>\n",
            "angka_float = 3.14 -> <class 'float'>\n",
            "angka_complex = (2+3j) -> <class 'complex'>\n",
            "NOTE:\n",
            "Integer adalah tipe data untuk sebuah angka\n",
            "Float adalah tipe data untuk sebuah bilangan desimal\n",
            "Complex adalah tipe data untuk sebuah bilangan kompleks\n"
          ]
        }
      ]
    },
    {
      "cell_type": "code",
      "source": [
        "# 2. Boolean\n",
        "is_active = True\n",
        "print(\"is_active =\", is_active, \"->\", type(is_active))\n",
        "\n",
        "print(\"NOTE:\")\n",
        "print(\"Boolean adalah tipe data untuk sebuah nilai benar atau salah\")"
      ],
      "metadata": {
        "colab": {
          "base_uri": "https://localhost:8080/"
        },
        "id": "hyHC_U-vV_uZ",
        "outputId": "c3712b40-40d8-4faa-c07c-99cf6cd0bb1a"
      },
      "execution_count": 6,
      "outputs": [
        {
          "output_type": "stream",
          "name": "stdout",
          "text": [
            "is_active = True -> <class 'bool'>\n",
            "NOTE:\n",
            "Boolean adalah tipe data untuk sebuah nilai benar atau salah\n"
          ]
        }
      ]
    },
    {
      "cell_type": "code",
      "source": [
        "# 3. String\n",
        "teks = \"Hello, Python!\"\n",
        "print(\"teks =\", teks, \"->\", type(teks))\n",
        "\n",
        "print(\"NOTE:\")\n",
        "print(\"String adalah tipe data untuk sebuah nilai berupa karakter\")"
      ],
      "metadata": {
        "id": "aafLq3kjW-6i",
        "outputId": "02663a30-6053-4ca8-c768-14de5d999085",
        "colab": {
          "base_uri": "https://localhost:8080/"
        }
      },
      "execution_count": 7,
      "outputs": [
        {
          "output_type": "stream",
          "name": "stdout",
          "text": [
            "teks = Hello, Python! -> <class 'str'>\n",
            "NOTE:\n",
            "String adalah tipe data untuk sebuah nilai berupa karakter\n"
          ]
        }
      ]
    },
    {
      "cell_type": "code",
      "source": [
        " # 4. List\n",
        "# List adalah tipe data terurut dan dapat diubah (mutable)\n",
        "daftar_angka = [1, 2, 3, 4, 5]\n",
        "print(\"daftar_angka =\", daftar_angka, \"->\", type(daftar_angka))\n",
        "\n",
        "print(\"NOTE:\")\n",
        "print(\"List adalah tipe data untuk sebuah himpunan nilai\")\n",
        "print(\"Nilai dalam list dapat diubah\")\n",
        "print(\"\")"
      ],
      "metadata": {
        "id": "uiEcaYHDXlOg"
      },
      "execution_count": null,
      "outputs": []
    }
  ]
}