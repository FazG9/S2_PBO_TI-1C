{
  "nbformat": 4,
  "nbformat_minor": 0,
  "metadata": {
    "colab": {
      "provenance": [],
      "authorship_tag": "ABX9TyMAsEoeCS9RN4z0aGbhVsVP",
      "include_colab_link": true
    },
    "kernelspec": {
      "name": "python3",
      "display_name": "Python 3"
    },
    "language_info": {
      "name": "python"
    }
  },
  "cells": [
    {
      "cell_type": "markdown",
      "metadata": {
        "id": "view-in-github",
        "colab_type": "text"
      },
      "source": [
        "<a href=\"https://colab.research.google.com/github/FazG9/S2_PBO_TI-1C/blob/main/jobsheet_01.ipynb\" target=\"_parent\"><img src=\"https://colab.research.google.com/assets/colab-badge.svg\" alt=\"Open In Colab\"/></a>"
      ]
    },
    {
      "cell_type": "markdown",
      "source": [
        "Praktikum 01. Tipe data dasar"
      ],
      "metadata": {
        "id": "KG-5E_hKUrFo"
      }
    },
    {
      "cell_type": "code",
      "source": [
        " # 1. Number (int, float, complex)\n",
        "# Integer (int)\n",
        "angka_int = 10\n",
        "print(\"angka_int =\", angka_int, \"->\", type(angka_int))\n",
        "\n",
        "# Float\n",
        "angka_float = 3.14\n",
        "print(\"angka_float =\", angka_float, \"->\", type(angka_float))\n",
        "\n",
        "# Complex\n",
        "angka_complex = 2 + 3j\n",
        "print(\"angka_complex =\", angka_complex, \"->\", type(angka_complex))\n",
        "\n",
        "print(\"NOTE:\")\n",
        "print(\"Integer adalah tipe data untuk sebuah angka\")\n",
        "print(\"Float adalah tipe data untuk sebuah bilangan desimal\")\n",
        "print(\"Complex adalah tipe data untuk sebuah bilangan kompleks\")"
      ],
      "metadata": {
        "colab": {
          "base_uri": "https://localhost:8080/"
        },
        "id": "E5cvbeowUx_B",
        "outputId": "1a28c58b-d965-4fa1-a48c-09acb9a1a334"
      },
      "execution_count": null,
      "outputs": [
        {
          "output_type": "stream",
          "name": "stdout",
          "text": [
            "angka_int = 10 -> <class 'int'>\n",
            "angka_float = 3.14 -> <class 'float'>\n",
            "angka_complex = (2+3j) -> <class 'complex'>\n",
            "NOTE:\n",
            "Integer adalah tipe data untuk sebuah angka\n",
            "Float adalah tipe data untuk sebuah bilangan desimal\n",
            "Complex adalah tipe data untuk sebuah bilangan kompleks\n"
          ]
        }
      ]
    },
    {
      "cell_type": "code",
      "source": [
        "# 2. Boolean\n",
        "is_active = True\n",
        "print(\"is_active =\", is_active, \"->\", type(is_active))\n",
        "\n",
        "print(\"NOTE:\")\n",
        "print(\"Boolean adalah tipe data untuk sebuah nilai benar atau salah\")"
      ],
      "metadata": {
        "colab": {
          "base_uri": "https://localhost:8080/"
        },
        "id": "hyHC_U-vV_uZ",
        "outputId": "c3712b40-40d8-4faa-c07c-99cf6cd0bb1a"
      },
      "execution_count": null,
      "outputs": [
        {
          "output_type": "stream",
          "name": "stdout",
          "text": [
            "is_active = True -> <class 'bool'>\n",
            "NOTE:\n",
            "Boolean adalah tipe data untuk sebuah nilai benar atau salah\n"
          ]
        }
      ]
    },
    {
      "cell_type": "code",
      "source": [
        "# 3. String\n",
        "teks = \"Hello, Python!\"\n",
        "print(\"teks =\", teks, \"->\", type(teks))\n",
        "\n",
        "print(\"NOTE:\")\n",
        "print(\"String adalah tipe data untuk sebuah nilai berupa karakter\")"
      ],
      "metadata": {
        "id": "aafLq3kjW-6i",
        "outputId": "02663a30-6053-4ca8-c768-14de5d999085",
        "colab": {
          "base_uri": "https://localhost:8080/"
        }
      },
      "execution_count": null,
      "outputs": [
        {
          "output_type": "stream",
          "name": "stdout",
          "text": [
            "teks = Hello, Python! -> <class 'str'>\n",
            "NOTE:\n",
            "String adalah tipe data untuk sebuah nilai berupa karakter\n"
          ]
        }
      ]
    },
    {
      "cell_type": "code",
      "source": [
        " # 4. List\n",
        "# List adalah tipe data terurut dan dapat diubah (mutable)\n",
        "daftar_angka = [1, 2, 3, 4, 5]\n",
        "print(\"daftar_angka =\", daftar_angka, \"->\", type(daftar_angka))\n",
        "\n",
        "print(\"NOTE:\")\n",
        "print(\"List adalah tipe data untuk sebuah himpunan nilai\")\n",
        "print(\"Nilai dalam list dapat diubah\")"
      ],
      "metadata": {
        "id": "uiEcaYHDXlOg",
        "outputId": "8c2a15b5-479b-4138-b599-dff44a143efe",
        "colab": {
          "base_uri": "https://localhost:8080/"
        }
      },
      "execution_count": 11,
      "outputs": [
        {
          "output_type": "stream",
          "name": "stdout",
          "text": [
            "daftar_angka = [1, 2, 3, 4, 5] -> <class 'list'>\n",
            "NOTE:\n",
            "List adalah tipe data untuk sebuah himpunan nilai\n",
            "Nilai dalam list dapat diubah\n"
          ]
        }
      ]
    },
    {
      "cell_type": "code",
      "source": [
        "# 5. Tuple\n",
        "# Tuple adalah tipe data terurut tetapi tidak dapat diubah (immutable)\n",
        "koordinat = (10, 20)\n",
        "print(\"koordinat =\", koordinat, \"->\", type(koordinat))\n",
        "\n",
        "print(\"NOTE:\")\n",
        "print(\"Tuple adalah tipe data untuk sebuah himpunan nilai\")\n",
        "print(\"Nilai dalam tuple tidak dapat diubah\")"
      ],
      "metadata": {
        "id": "ejwQSLnNnkI8",
        "outputId": "62f296a4-64bc-4ce8-f71b-5386dec94544",
        "colab": {
          "base_uri": "https://localhost:8080/"
        }
      },
      "execution_count": 13,
      "outputs": [
        {
          "output_type": "stream",
          "name": "stdout",
          "text": [
            "koordinat = (10, 20) -> <class 'tuple'>\n",
            "NOTE:\n",
            "Tuple adalah tipe data untuk sebuah himpunan nilai\n",
            "Nilai dalam tuple tidak dapat diubah\n"
          ]
        }
      ]
    },
    {
      "cell_type": "code",
      "source": [
        "# 6. Dictionary\n",
        "# Dictionary menyimpan data dalam pasangan key-value\n",
        "data_mahasiswa = {\n",
        "\"nama\": \"Andi\",\n",
        "\"nim\": \"A11.2022.12345\",\n",
        "\"jurusan\": \"Teknik Informatika\"\n",
        "}\n",
        "print(\"data_mahasiswa =\", data_mahasiswa, \"->\", type(data_mahasiswa))\n",
        "\n",
        "print(\"NOTE:\")\n",
        "print(\"Dictionary adalah tipe data untuk sebuah himpunan nilai\")\n",
        "print(\"Nilai dalam dictionary dapat diubah\")"
      ],
      "metadata": {
        "id": "wKgvyCR0oUBK",
        "outputId": "641b111d-568c-4ee8-c555-093108bc53de",
        "colab": {
          "base_uri": "https://localhost:8080/"
        }
      },
      "execution_count": 17,
      "outputs": [
        {
          "output_type": "stream",
          "name": "stdout",
          "text": [
            "data_mahasiswa = {'nama': 'Andi', 'nim': 'A11.2022.12345', 'jurusan': 'Teknik Informatika'} -> <class 'dict'>\n",
            "NOTE:\n",
            "Dictionary adalah tipe data untuk sebuah himpunan nilai\n",
            "Nilai dalam dictionary dapat diubah\n"
          ]
        }
      ]
    },
    {
      "cell_type": "code",
      "source": [
        " # 7. Set\n",
        "# Set adalah tipe data yang tidak terurut, unik (tiap elemen hanya muncul 1x)\n",
        "himpunan_angka = {1, 2, 3, 2, 1}\n",
        "print(\"himpunan_angka =\", himpunan_angka, \"->\", type(himpunan_angka))\n",
        "\n",
        "print(\"NOTE:\")\n",
        "print(\"Set adalah tipe data untuk sebuah himpunan nilai\")\n",
        "print(\"Nilai dalam set tidak dapat diubah\")"
      ],
      "metadata": {
        "id": "sQX9VZa8phIS",
        "outputId": "74f447ef-1741-4958-97c7-6c60c895e28e",
        "colab": {
          "base_uri": "https://localhost:8080/"
        }
      },
      "execution_count": 20,
      "outputs": [
        {
          "output_type": "stream",
          "name": "stdout",
          "text": [
            "himpunan_angka = {1, 2, 3} -> <class 'set'>\n",
            "NOTE:\n",
            "Set adalah tipe data untuk sebuah himpunan nilai\n",
            "Nilai dalam set tidak dapat diubah\n"
          ]
        }
      ]
    },
    {
      "cell_type": "code",
      "source": [
        "# 8. Contoh penggunaan konversi tipe data\n",
        "nilai_str = \"100\"\n",
        "print(\"\\nnilai_str =\", nilai_str, \"->\", type(nilai_str))\n",
        "nilai_int = int(nilai_str)  # konversi string ke integer\n",
        "print(\"nilai_int =\", nilai_int, \"->\", type(nilai_int))\n",
        "\n",
        "print(\"NOTE:\")\n",
        "print(\"Konversi tipe data string ke integer\")"
      ],
      "metadata": {
        "id": "1t9zAPl8qTRp",
        "outputId": "86a08d06-541d-4286-8bae-c0e79fbf291f",
        "colab": {
          "base_uri": "https://localhost:8080/"
        }
      },
      "execution_count": 21,
      "outputs": [
        {
          "output_type": "stream",
          "name": "stdout",
          "text": [
            "\n",
            "nilai_str = 100 -> <class 'str'>\n",
            "nilai_int = 100 -> <class 'int'>\n",
            "NOTE:\n",
            "Konversi tipe data string ke integer\n"
          ]
        }
      ]
    },
    {
      "cell_type": "markdown",
      "source": [
        "Praktikum 02. Variabel dan Operasi dasar"
      ],
      "metadata": {
        "id": "fFg25gNaqrvR"
      }
    },
    {
      "cell_type": "code",
      "source": [
        "# 1. Pendeklarasian Variabel\n",
        "nama = \"Budi\"\n",
        "umur = 20\n",
        "tinggi = 170.5\n",
        "is_student = True\n",
        "\n",
        "print(\"Nama =\", nama)\n",
        "print(\"Umur =\", umur)\n",
        "print(\"Tinggi =\", tinggi, \"cm\")\n",
        "print(\"Mahasiswa =\", is_student)\n",
        "\n",
        "# Python tidak memerlukan deklarasi tipe data secara eksplisit.\n",
        "# Tipe data variabel akan menyesuaikan nilai yang diberikan."
      ],
      "metadata": {
        "id": "1UeA2qYJqxTZ",
        "outputId": "c99602ac-4e08-46ab-9ce7-810edb681978",
        "colab": {
          "base_uri": "https://localhost:8080/"
        }
      },
      "execution_count": 22,
      "outputs": [
        {
          "output_type": "stream",
          "name": "stdout",
          "text": [
            "Nama = Budi\n",
            "Umur = 20\n",
            "Tinggi = 170.5 cm\n",
            "Mahasiswa = True\n"
          ]
        }
      ]
    }
  ]
}