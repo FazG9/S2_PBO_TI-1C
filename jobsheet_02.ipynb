{
  "nbformat": 4,
  "nbformat_minor": 0,
  "metadata": {
    "colab": {
      "provenance": [],
      "authorship_tag": "ABX9TyN3Yo0GwvENGIqR8lG8zvO9",
      "include_colab_link": true
    },
    "kernelspec": {
      "name": "python3",
      "display_name": "Python 3"
    },
    "language_info": {
      "name": "python"
    }
  },
  "cells": [
    {
      "cell_type": "markdown",
      "metadata": {
        "id": "view-in-github",
        "colab_type": "text"
      },
      "source": [
        "<a href=\"https://colab.research.google.com/github/FazG9/S2_PBO_TI-1C/blob/main/jobsheet_02.ipynb\" target=\"_parent\"><img src=\"https://colab.research.google.com/assets/colab-badge.svg\" alt=\"Open In Colab\"/></a>"
      ]
    },
    {
      "cell_type": "markdown",
      "source": [
        "# Praktikum 1: Membuat dan Menggunakan Fungsi"
      ],
      "metadata": {
        "id": "2n6aCnN5PwIx"
      }
    },
    {
      "cell_type": "code",
      "execution_count": 16,
      "metadata": {
        "id": "fJtncFJMPNA6",
        "colab": {
          "base_uri": "https://localhost:8080/"
        },
        "outputId": "fd78ca58-1b6c-44a9-c4b0-5a2a72d9eb53"
      },
      "outputs": [
        {
          "output_type": "stream",
          "name": "stdout",
          "text": [
            "Ini adalah contoh fungsi built-in\n",
            "Panjang kata 'Pemrograman' adalah: 11\n",
            "Nilai maksimum dalam daftar [10, 5, 30, 40, 25] adalah: 40\n"
          ]
        }
      ],
      "source": [
        "# Fungsi Built-in\n",
        "# Fungsi print() adalah contoh fungsi built-in untuk mencetak output\n",
        "print(\"Ini adalah contoh fungsi built-in\")\n",
        "\n",
        "# Fungsi len() adalah contoh fungsi built-in untuk menghitung panjang suatu objek\n",
        "kata = \"Pemrograman\"\n",
        "panjang_kata = len(kata)\n",
        "print(f\"Panjang kata '{kata}' adalah: {panjang_kata}\")\n",
        "\n",
        "# Fungsi max() adalah contoh fungsi built-in untuk mencari nilai maksimum dari sebuah daftar\n",
        "angka = [10, 5, 30, 40, 25]\n",
        "nilai_max = max(angka)\n",
        "print(f\"Nilai maksimum dalam daftar {angka} adalah: {nilai_max}\")"
      ]
    },
    {
      "cell_type": "code",
      "source": [
        "# Fungsi User-Defined\n",
        "# Fungsi dengan satu parameter (Menerima satu nilai input)\n",
        "def cetak_kuadrat(angka):\n",
        "    # Menghitung kuadrat dari angka yang diterima sebagai parameter\n",
        "    print(f\"Kuadrat dari {angka} adalah: {angka ** 2}\")\n",
        "\n",
        "# Fungsi dengan beberapa parameter (Menerima lebih dari satu nilai input)\n",
        "def hitung_luas_persegi_panjang(panjang, lebar):\n",
        "    # Menghitung luas persegi panjang\n",
        "    return panjang * lebar\n",
        "\n",
        "# Fungsi dengan beberapa tipe parameter (Menerima berbagai jenis data)\n",
        "def info_mahasiswa(nama, umur, ipk):\n",
        "    # Mencetak informasi mahasiswa\n",
        "    print(f\"Nama: {nama}, Umur: {umur}, IPK: {ipk}\")\n",
        "\n",
        "# Fungsi tanpa return value (Non-return value)\n",
        "def sapa_pengguna(nama):\n",
        "    # Fungsi ini hanya mencetak sapaan tanpa mengembalikan nilai\n",
        "    print(f\"Halo, {nama}! Selamat datang di dunia Python.\")\n",
        "\n",
        "# Fungsi dengan return value\n",
        "def hitung_keliling_persegi(sisi):\n",
        "    # Mengembalikan keliling persegi\n",
        "    return 4 * sisi\n",
        "\n",
        "# Pemanggilan fungsi dengan satu parameter\n",
        "cetak_kuadrat(5)\n",
        "\n",
        "# Pemanggilan fungsi dengan beberapa parameter\n",
        "luas = hitung_luas_persegi_panjang(10, 5)\n",
        "print(f\"Luas persegi panjang: {luas}\")\n",
        "\n",
        "# Pemanggilan fungsi dengan beberapa tipe parameter\n",
        "info_mahasiswa(\"Budi\", 22, 3.8)\n",
        "\n",
        "# Pemanggilan fungsi tanpa return value\n",
        "sapa_pengguna(\"Andi\")\n",
        "\n",
        "# Pemanggilan fungsi dengan return value\n",
        "keliling = hitung_keliling_persegi(5)\n",
        "print(f\"Keliling persegi dengan sisi 5 adalah: {keliling}\")"
      ],
      "metadata": {
        "colab": {
          "base_uri": "https://localhost:8080/"
        },
        "id": "tBftciKvTDwR",
        "outputId": "c76b6b6d-ed0e-41a8-c4dd-5c1e53a9ad8f"
      },
      "execution_count": 17,
      "outputs": [
        {
          "output_type": "stream",
          "name": "stdout",
          "text": [
            "Kuadrat dari 5 adalah: 25\n",
            "Luas persegi panjang: 50\n",
            "Nama: Budi, Umur: 22, IPK: 3.8\n",
            "Halo, Andi! Selamat datang di dunia Python.\n",
            "Keliling persegi dengan sisi 5 adalah: 20\n"
          ]
        }
      ]
    },
    {
      "cell_type": "markdown",
      "source": [
        "# Praktikum 2: Modularisasi Kode dengan Fungsi"
      ],
      "metadata": {
        "id": "pNT2qzZ-Vi7c"
      }
    },
    {
      "cell_type": "code",
      "source": [
        "# File utama main.py yang mengimpor modul geometri.py\n",
        "\n",
        "# Mengimpor modul geometri\n",
        "import geometri\n",
        "\n",
        "def main():\n",
        "    # Menggunakan fungsi dari modul meong\n",
        "    luas_persegi = geometri.hitung_luas_persegi(5)\n",
        "    print(f\"Luas persegi dengan sisi 5 adalah: {luas_persegi}\")\n",
        "\n",
        "    luas_persegi_panjang = geometri.hitung_luas_persegi_panjang(10, 5)\n",
        "    print(f\"Luas persegi panjang dengan panjang 10 dan lebar 5 adalah: {luas_persegi_panjang}\")\n",
        "\n",
        "    luas_lingkaran = geometri.hitung_luas_lingkaran(7)\n",
        "    print(f\"Luas lingkaran dengan jari-jari 7 adalah: {luas_lingkaran}\")\n",
        "\n",
        "if __name__ == \"__main__\":\n",
        "    main()"
      ],
      "metadata": {
        "colab": {
          "base_uri": "https://localhost:8080/"
        },
        "id": "qcRSN06aVnZE",
        "outputId": "ba8ea8cb-bea8-4f6b-a5c4-b16050fe33e2"
      },
      "execution_count": 23,
      "outputs": [
        {
          "output_type": "stream",
          "name": "stdout",
          "text": [
            "Luas persegi dengan sisi 5 adalah: 25\n",
            "Luas persegi panjang dengan panjang 10 dan lebar 5 adalah: 50\n",
            "Luas lingkaran dengan jari-jari 7 adalah: 153.86\n"
          ]
        }
      ]
    },
    {
      "cell_type": "markdown",
      "source": [
        "# Praktikum 3: Membuat Kelas Sederhana"
      ],
      "metadata": {
        "id": "RiB7Y5pcYYAZ"
      }
    },
    {
      "cell_type": "code",
      "source": [
        "# Kelas Buku untuk merepresentasikan buku di perpustakaan\n",
        "class Buku:\n",
        "    def __init__(self, judul, pengarang, tahun_terbit):\n",
        "        self.judul = judul\n",
        "        self.pengarang = pengarang\n",
        "        self.tahun_terbit = tahun_terbit\n",
        "        self.status = \"Tersedia\"  # Status buku, default adalah Tersedia\n",
        "\n",
        "    def tampilkan_info(self):\n",
        "        print(f\"Judul: {self.judul}\")\n",
        "        print(f\"Pengarang: {self.pengarang}\")\n",
        "        print(f\"Tahun Terbit: {self.tahun_terbit}\")\n",
        "        print(f\"Status: {self.status}\")\n",
        "\n",
        "    def pinjam(self):\n",
        "        if self.status == \"Tersedia\":\n",
        "            self.status = \"Dipinjam\"\n",
        "            print(f\"Buku '{self.judul}' telah dipinjam.\")\n",
        "        else:\n",
        "            print(f\"Buku '{self.judul}' sedang dipinjam.\")\n",
        "\n",
        "    def kembalikan(self):\n",
        "        if self.status == \"Dipinjam\":\n",
        "            self.status = \"Tersedia\"\n",
        "            print(f\"Buku '{self.judul}' telah dikembalikan.\")\n",
        "        else:\n",
        "            print(f\"Buku '{self.judul}' tidak sedang dipinjam.\")\n",
        "\n",
        "# Membuat objek dari kelas Buku\n",
        "buku1 = Buku(\"Pemrograman Python\", \"John Doe\", 2021)\n",
        "buku2 = Buku(\"Data Science untuk Pemula\", \"Jane Smith\", 2020)\n",
        "\n",
        "# Menggunakan metode objek Buku\n",
        "buku1.tampilkan_info()\n",
        "buku2.pinjam()\n",
        "\n",
        "# Mengubah status buku dan menampilkan informasi\n",
        "buku2.kembalikan()\n",
        "buku1.pinjam()\n",
        "buku1.tampilkan_info()"
      ],
      "metadata": {
        "colab": {
          "base_uri": "https://localhost:8080/"
        },
        "id": "XN6PAS-7YdV0",
        "outputId": "84c5a03d-404b-410e-8c8d-2d2358758191"
      },
      "execution_count": 27,
      "outputs": [
        {
          "output_type": "stream",
          "name": "stdout",
          "text": [
            "Judul: Pemrograman Python\n",
            "Pengarang: John Doe\n",
            "Tahun Terbit: 2021\n",
            "Status: Tersedia\n",
            "Buku 'Data Science untuk Pemula' telah dipinjam.\n",
            "Buku 'Data Science untuk Pemula' telah dikembalikan.\n",
            "Buku 'Pemrograman Python' telah dipinjam.\n",
            "Judul: Pemrograman Python\n",
            "Pengarang: John Doe\n",
            "Tahun Terbit: 2021\n",
            "Status: Dipinjam\n"
          ]
        }
      ]
    },
    {
      "cell_type": "code",
      "source": [
        "# Kelas Mahasiswa untuk merepresentasikan Mahasiswa dalam kelas\n",
        "\n",
        "# Definisi kelas\n",
        "class Mahasiswa:\n",
        "    # Konstruktor (__init__) untuk menginisialisasi atribut objek\n",
        "    def __init__(self, nama, nim, umur):\n",
        "        self.nama = nama  # Atribut objek nama\n",
        "        self.nim = nim    # Atribut objek nim\n",
        "        self.umur = umur  # Atribut objek umur\n",
        "\n",
        "    # Metode untuk menampilkan informasi mahasiswa\n",
        "    def tampilkan_info(self):\n",
        "        print(f\"Nama: {self.nama}\")\n",
        "        print(f\"NIM: {self.nim}\")\n",
        "        print(f\"Umur: {self.umur} tahun\")\n",
        "\n",
        "    # Metode untuk merubah umur mahasiswa\n",
        "    def ubah_umur(self, umur_baru):\n",
        "        self.umur = umur_baru\n",
        "\n",
        "# Membuat objek (instance) dari kelas Mahasiswa\n",
        "mahasiswa1 = Mahasiswa(\"Andi\", \"12345\", 20)\n",
        "mahasiswa2 = Mahasiswa(\"Budi\", \"67890\", 22)\n",
        "\n",
        "# Menggunakan metode dari kelas Mahasiswa\n",
        "mahasiswa1.tampilkan_info()\n",
        "print()  # Baris kosong\n",
        "mahasiswa2.tampilkan_info()\n",
        "\n",
        "# Mengubah umur mahasiswa1 menggunakan metode ubah_umur\n",
        "mahasiswa1.ubah_umur(21)\n",
        "\n",
        "# Menampilkan info mahasiswa setelah umur diubah\n",
        "print(\"\\nSetelah mengubah umur mahasiswa1:\")\n",
        "mahasiswa1.tampilkan_info()"
      ],
      "metadata": {
        "colab": {
          "base_uri": "https://localhost:8080/"
        },
        "id": "E1vhnXyMaHyv",
        "outputId": "0ec23448-4327-4249-f414-73988bd7d3b0"
      },
      "execution_count": 28,
      "outputs": [
        {
          "output_type": "stream",
          "name": "stdout",
          "text": [
            "Nama: Andi\n",
            "NIM: 12345\n",
            "Umur: 20 tahun\n",
            "\n",
            "Nama: Budi\n",
            "NIM: 67890\n",
            "Umur: 22 tahun\n",
            "\n",
            "Setelah mengubah umur mahasiswa1:\n",
            "Nama: Andi\n",
            "NIM: 12345\n",
            "Umur: 21 tahun\n"
          ]
        }
      ]
    },
    {
      "cell_type": "markdown",
      "source": [
        "# Praktikum 4: Membuat dan Menggunakan Method dalam Kelas"
      ],
      "metadata": {
        "id": "HdZdgZ3Jay9x"
      }
    },
    {
      "cell_type": "code",
      "source": [
        "# Kelas untuk menjelaskan atribut dan metode dalam kelas\n",
        "02: class Mobil:\n",
        "03:     def __init__(self, merk, warna, tahun, harga):\n",
        "04:         # Atribut yang dimiliki oleh objek Mobil\n",
        "05:         self.merk = merk\n",
        "06:         self.warna = warna\n",
        "07:         self.tahun = tahun\n",
        "08:         self.harga = harga\n",
        "09:\n",
        "10:     # Fungsi tanpa return value, hanya mencetak informasi\n",
        "11:     def tampilkan_info(self):\n",
        "12:         print(f\"Mobil {self.merk} berwarna {self.warna}, tahun\n",
        "{self.tahun}, harga: Rp {self.harga}\")\n",
        "13:\n",
        "14:     # Fungsi dengan satu parameter\n",
        "15:     def diskon(self, persen_diskon):\n",
        "16:         # Menghitung harga setelah diskon\n",
        "17:         diskon_harga = self.harga * (persen_diskon / 100)\n",
        "18:         harga_setelah_diskon = self.harga - diskon_harga\n",
        "19:         print(f\"Harga setelah diskon {persen_diskon}%: Rp\n",
        "{harga_setelah_diskon}\")\n",
        "20:         # Tidak mengembalikan nilai, hanya mencetak harga setelah diskon\n",
        "21:\n",
        "22:     # Fungsi dengan return value, menghitung usia mobil berdasarkan tahun\n",
        "23:     def hitung_usia(self, tahun_sekarang):\n",
        "24:         usia = tahun_sekarang - self.tahun\n",
        "25:         return usia\n",
        "26:\n",
        "27:     # Fungsi dengan beberapa parameter\n",
        "28:     def perbarui_harga(self, harga_baru, tahun_baru):\n",
        "29:         self.harga = harga_baru\n",
        "30:         self.tahun = tahun_baru\n",
        "31:         print(f\"Harga dan tahun mobil {self.merk} diperbarui menjadi Rp\n",
        "{self.harga} dan tahun {self.tahun}\")\n",
        "32:\n",
        "33: # Membuat objek mobil\n",
        "34: mobil1 = Mobil(\"Toyota\", \"Hitam\", 2015, 300000000)\n",
        "35: mobil2 = Mobil(\"Honda\", \"Merah\", 2018, 250000000)\n",
        "36:\n",
        "37: # Menggunakan metode tanpa return value\n",
        "38: mobil1.tampilkan_info()\n",
        "39: mobil2.tampilkan_info()\n",
        "40:\n",
        "41: # Menggunakan metode dengan satu parameter (diskon)\n",
        "42: mobil1.diskon(10)\n",
        "43: mobil2.diskon(15)\n",
        "44:\n",
        "# Menggunakan metode dengan return value (hitung usia mobil)\n",
        "usia_mobil1 = mobil1.hitung_usia(2025)\n",
        "usia_mobil2 = mobil2.hitung_usia(2025)\n",
        "\n",
        "print(f\"Usia mobil1 pada tahun 2025: {usia_mobil1} tahun\")\n",
        "print(f\"Usia mobil2 pada tahun 2025: {usia_mobil2} tahun\")\n",
        "\n",
        "# Menggunakan metode dengan beberapa parameter (perbarui harga dan tahun)\n",
        "mobil1.perbarui_harga(280000000, 2022)\n",
        "mobil2.perbarui_harga(240000000, 2021)"
      ],
      "metadata": {
        "id": "b7EC1ctGa3gE"
      },
      "execution_count": null,
      "outputs": []
    }
  ]
}