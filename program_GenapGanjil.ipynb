{
  "nbformat": 4,
  "nbformat_minor": 0,
  "metadata": {
    "colab": {
      "provenance": [],
      "authorship_tag": "ABX9TyNLlxeXE0atjkz0sZmcYOBg",
      "include_colab_link": true
    },
    "kernelspec": {
      "name": "python3",
      "display_name": "Python 3"
    },
    "language_info": {
      "name": "python"
    }
  },
  "cells": [
    {
      "cell_type": "markdown",
      "metadata": {
        "id": "view-in-github",
        "colab_type": "text"
      },
      "source": [
        "<a href=\"https://colab.research.google.com/github/FazG9/S2_PBO_TI-1C/blob/main/program_GenapGanjil.ipynb\" target=\"_parent\"><img src=\"https://colab.research.google.com/assets/colab-badge.svg\" alt=\"Open In Colab\"/></a>"
      ]
    },
    {
      "cell_type": "markdown",
      "source": [],
      "metadata": {
        "id": "3xLHDobuNB7l"
      }
    },
    {
      "cell_type": "code",
      "source": [
        "def cek_bilangan(n):\n",
        "    # Cek Genap atau Ganjil\n",
        "    if n % 2 == 0:\n",
        "        jenis = \"Genap\"\n",
        "    else:\n",
        "        jenis = \"Ganjil\"\n",
        "\n",
        "    # Cek Bilangan Prima\n",
        "    if n < 2:\n",
        "        prima = False\n",
        "    else:\n",
        "        prima = True\n",
        "        for i in range(2, int(n**0.5) + 1):\n",
        "            if n % i == 0:\n",
        "                prima = False\n",
        "                break\n",
        "\n",
        "    # Output hasil\n",
        "    if prima:\n",
        "        print(f\"{n} adalah bilangan {jenis} dan juga bilangan Prima.\")\n",
        "    else:\n",
        "        print(f\"{n} adalah bilangan {jenis} dan bukan bilangan Prima.\")\n",
        "\n",
        "# Contoh Penggunaan\n",
        "angka = int(input(\"Masukkan sebuah angka: \"))\n",
        "cek_bilangan(angka)\n"
      ],
      "metadata": {
        "id": "gnJgOkCrNED7"
      },
      "execution_count": null,
      "outputs": []
    }
  ]
}